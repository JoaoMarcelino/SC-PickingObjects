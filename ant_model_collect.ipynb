{
 "cells": [
  {
   "cell_type": "code",
   "execution_count": 1,
   "metadata": {},
   "outputs": [],
   "source": [
    "#Imports and Setup\n",
    "\n",
    "#Palma ratio\n",
    "#Theil index\n",
    "#Hoover index\n",
    "#Lorenz curve\n",
    "\n",
    "from ant_model import AntModel\n",
    "import matplotlib.pyplot as plt\n",
    "from matplotlib.animation import FuncAnimation\n",
    "import seaborn as sns\n",
    "\n",
    "n_ants = 10\n",
    "n_sticks = 500\n",
    "neigh = \"VN\"\n",
    "stick_min = 2\n",
    "stick_max = None\n",
    "width = 10\n",
    "height = 10\n",
    "num_gens = 500\n",
    "model = AntModel(n_ants,n_sticks,neigh,stick_min, stick_max, width,height)"
   ]
  },
  {
   "cell_type": "code",
   "execution_count": 2,
   "metadata": {},
   "outputs": [
    {
     "name": "stdout",
     "output_type": "stream",
     "text": [
      "1 0\n"
     ]
    },
    {
     "data": {
      "image/png": "[encoded data removed]",
      "text/plain": [
       "<Figure size 432x288 with 1 Axes>"
      ]
     },
     "metadata": {
      "needs_background": "light"
     },
     "output_type": "display_data"
    },
    {
     "data": {
      "image/png": "[encoded data removed]",
      "text/plain": [
       "<Figure size 576x432 with 1 Axes>"
      ]
     },
     "metadata": {
      "needs_background": "light"
     },
     "output_type": "display_data"
    }
   ],
   "source": [
    "for i in range(num_gens):\n",
    "    model.step()\n",
    "\n",
    "average_df = model.datacollector.get_model_vars_dataframe()\n",
    "\n",
    "\n",
    "sticks_df = model.datacollector.get_agent_vars_dataframe()\n",
    "\n",
    "#average_df.to_csv(\"test1.csv\")\n",
    "#sticks_df.to_csv(\"test2.csv\")\n",
    "\n",
    "average_df.plot()\n",
    "\n",
    "\n",
    "steps = [s[0] for s in sticks_df.index.values]\n",
    "ids = [s[1] for s in sticks_df.index.values]\n",
    "\n",
    "print(steps[0], ids[0])\n",
    "fig = plt.figure(figsize=(8,6))\n",
    "axes = fig.add_subplot(1,1,1)\n",
    "axes.set_ylim(0, max(steps))\n",
    "\n",
    "y1, y2 = [], []\n",
    "def animation_stuff(): #todo\n",
    "    def animate(i):\n",
    "        y1 =steps[i]\n",
    "        y2 = ids[i]\n",
    "    ani = FuncAnimation(fig, animate, interval=100)\n",
    "    pass\n",
    "\n",
    "\n",
    "plt.title(\"Stick piles evolution\", color=(\"black\"))\n",
    "plt.scatter(steps,sticks_df)\n",
    "plt.show()"
   ]
  },
  {
   "cell_type": "code",
   "execution_count": 35,
   "metadata": {},
   "outputs": [
    {
     "name": "stdout",
     "output_type": "stream",
     "text": [
      "              Sticks\n",
      "Step AgentID        \n",
      "1    0             8\n",
      "     1             5\n",
      "     2             8\n",
      "     3             9\n",
      "     4             5\n",
      "...              ...\n",
      "4500 495           7\n",
      "     496           7\n",
      "     497           7\n",
      "     498           8\n",
      "     499           6\n",
      "\n",
      "[2250000 rows x 1 columns]\n"
     ]
    },
    {
     "ename": "KeyError",
     "evalue": "'Step'",
     "output_type": "error",
     "traceback": [
      "\u001b[1;31m---------------------------------------------------------------------------\u001b[0m",
      "\u001b[1;31mKeyError\u001b[0m                                  Traceback (most recent call last)",
      "File \u001b[1;32m~\\anaconda3\\envs\\complex_systems\\lib\\site-packages\\pandas\\core\\indexes\\base.py:3621\u001b[0m, in \u001b[0;36mIndex.get_loc\u001b[1;34m(self, key, method, tolerance)\u001b[0m\n\u001b[0;32m   <a href='file:///c%3A/Users/j13ma/anaconda3/envs/complex_systems/lib/site-packages/pandas/core/indexes/base.py?line=3619'>3620</a>\u001b[0m \u001b[39mtry\u001b[39;00m:\n\u001b[1;32m-> <a href='file:///c%3A/Users/j13ma/anaconda3/envs/complex_systems/lib/site-packages/pandas/core/indexes/base.py?line=3620'>3621</a>\u001b[0m     \u001b[39mreturn\u001b[39;00m \u001b[39mself\u001b[39;49m\u001b[39m.\u001b[39;49m_engine\u001b[39m.\u001b[39;49mget_loc(casted_key)\n\u001b[0;32m   <a href='file:///c%3A/Users/j13ma/anaconda3/envs/complex_systems/lib/site-packages/pandas/core/indexes/base.py?line=3621'>3622</a>\u001b[0m \u001b[39mexcept\u001b[39;00m \u001b[39mKeyError\u001b[39;00m \u001b[39mas\u001b[39;00m err:\n",
      "File \u001b[1;32m~\\anaconda3\\envs\\complex_systems\\lib\\site-packages\\pandas\\_libs\\index.pyx:136\u001b[0m, in \u001b[0;36mpandas._libs.index.IndexEngine.get_loc\u001b[1;34m()\u001b[0m\n",
      "File \u001b[1;32m~\\anaconda3\\envs\\complex_systems\\lib\\site-packages\\pandas\\_libs\\index.pyx:163\u001b[0m, in \u001b[0;36mpandas._libs.index.IndexEngine.get_loc\u001b[1;34m()\u001b[0m\n",
      "File \u001b[1;32mpandas\\_libs\\hashtable_class_helper.pxi:5198\u001b[0m, in \u001b[0;36mpandas._libs.hashtable.PyObjectHashTable.get_item\u001b[1;34m()\u001b[0m\n",
      "File \u001b[1;32mpandas\\_libs\\hashtable_class_helper.pxi:5206\u001b[0m, in \u001b[0;36mpandas._libs.hashtable.PyObjectHashTable.get_item\u001b[1;34m()\u001b[0m\n",
      "\u001b[1;31mKeyError\u001b[0m: 'Step'",
      "\nThe above exception was the direct cause of the following exception:\n",
      "\u001b[1;31mKeyError\u001b[0m                                  Traceback (most recent call last)",
      "\u001b[1;32mc:\\Users\\j13ma\\Desktop\\Projetos\\SC\\SC-PickingObjects\\ant_model_collect.ipynb Cell 3'\u001b[0m in \u001b[0;36m<module>\u001b[1;34m\u001b[0m\n\u001b[0;32m      <a href='vscode-notebook-cell:/c%3A/Users/j13ma/Desktop/Projetos/SC/SC-PickingObjects/ant_model_collect.ipynb#ch0000004?line=1'>2</a>\u001b[0m ids \u001b[39m=\u001b[39m [s[\u001b[39m1\u001b[39m] \u001b[39mfor\u001b[39;00m s \u001b[39min\u001b[39;00m sticks_df\u001b[39m.\u001b[39mindex\u001b[39m.\u001b[39mvalues]\n\u001b[0;32m      <a href='vscode-notebook-cell:/c%3A/Users/j13ma/Desktop/Projetos/SC/SC-PickingObjects/ant_model_collect.ipynb#ch0000004?line=3'>4</a>\u001b[0m \u001b[39mprint\u001b[39m(sticks_df)\n\u001b[1;32m----> <a href='vscode-notebook-cell:/c%3A/Users/j13ma/Desktop/Projetos/SC/SC-PickingObjects/ant_model_collect.ipynb#ch0000004?line=5'>6</a>\u001b[0m b \u001b[39m=\u001b[39m [a \u001b[39mfor\u001b[39;00m a \u001b[39min\u001b[39;00m sticks_df[\u001b[39m\"\u001b[39;49m\u001b[39mStep\u001b[39;49m\u001b[39m\"\u001b[39;49m]]\n\u001b[0;32m      <a href='vscode-notebook-cell:/c%3A/Users/j13ma/Desktop/Projetos/SC/SC-PickingObjects/ant_model_collect.ipynb#ch0000004?line=6'>7</a>\u001b[0m \u001b[39mprint\u001b[39m(b)\n",
      "File \u001b[1;32m~\\anaconda3\\envs\\complex_systems\\lib\\site-packages\\pandas\\core\\frame.py:3505\u001b[0m, in \u001b[0;36mDataFrame.__getitem__\u001b[1;34m(self, key)\u001b[0m\n\u001b[0;32m   <a href='file:///c%3A/Users/j13ma/anaconda3/envs/complex_systems/lib/site-packages/pandas/core/frame.py?line=3502'>3503</a>\u001b[0m \u001b[39mif\u001b[39;00m \u001b[39mself\u001b[39m\u001b[39m.\u001b[39mcolumns\u001b[39m.\u001b[39mnlevels \u001b[39m>\u001b[39m \u001b[39m1\u001b[39m:\n\u001b[0;32m   <a href='file:///c%3A/Users/j13ma/anaconda3/envs/complex_systems/lib/site-packages/pandas/core/frame.py?line=3503'>3504</a>\u001b[0m     \u001b[39mreturn\u001b[39;00m \u001b[39mself\u001b[39m\u001b[39m.\u001b[39m_getitem_multilevel(key)\n\u001b[1;32m-> <a href='file:///c%3A/Users/j13ma/anaconda3/envs/complex_systems/lib/site-packages/pandas/core/frame.py?line=3504'>3505</a>\u001b[0m indexer \u001b[39m=\u001b[39m \u001b[39mself\u001b[39;49m\u001b[39m.\u001b[39;49mcolumns\u001b[39m.\u001b[39;49mget_loc(key)\n\u001b[0;32m   <a href='file:///c%3A/Users/j13ma/anaconda3/envs/complex_systems/lib/site-packages/pandas/core/frame.py?line=3505'>3506</a>\u001b[0m \u001b[39mif\u001b[39;00m is_integer(indexer):\n\u001b[0;32m   <a href='file:///c%3A/Users/j13ma/anaconda3/envs/complex_systems/lib/site-packages/pandas/core/frame.py?line=3506'>3507</a>\u001b[0m     indexer \u001b[39m=\u001b[39m [indexer]\n",
      "File \u001b[1;32m~\\anaconda3\\envs\\complex_systems\\lib\\site-packages\\pandas\\core\\indexes\\base.py:3623\u001b[0m, in \u001b[0;36mIndex.get_loc\u001b[1;34m(self, key, method, tolerance)\u001b[0m\n\u001b[0;32m   <a href='file:///c%3A/Users/j13ma/anaconda3/envs/complex_systems/lib/site-packages/pandas/core/indexes/base.py?line=3620'>3621</a>\u001b[0m     \u001b[39mreturn\u001b[39;00m \u001b[39mself\u001b[39m\u001b[39m.\u001b[39m_engine\u001b[39m.\u001b[39mget_loc(casted_key)\n\u001b[0;32m   <a href='file:///c%3A/Users/j13ma/anaconda3/envs/complex_systems/lib/site-packages/pandas/core/indexes/base.py?line=3621'>3622</a>\u001b[0m \u001b[39mexcept\u001b[39;00m \u001b[39mKeyError\u001b[39;00m \u001b[39mas\u001b[39;00m err:\n\u001b[1;32m-> <a href='file:///c%3A/Users/j13ma/anaconda3/envs/complex_systems/lib/site-packages/pandas/core/indexes/base.py?line=3622'>3623</a>\u001b[0m     \u001b[39mraise\u001b[39;00m \u001b[39mKeyError\u001b[39;00m(key) \u001b[39mfrom\u001b[39;00m \u001b[39merr\u001b[39;00m\n\u001b[0;32m   <a href='file:///c%3A/Users/j13ma/anaconda3/envs/complex_systems/lib/site-packages/pandas/core/indexes/base.py?line=3623'>3624</a>\u001b[0m \u001b[39mexcept\u001b[39;00m \u001b[39mTypeError\u001b[39;00m:\n\u001b[0;32m   <a href='file:///c%3A/Users/j13ma/anaconda3/envs/complex_systems/lib/site-packages/pandas/core/indexes/base.py?line=3624'>3625</a>\u001b[0m     \u001b[39m# If we have a listlike key, _check_indexing_error will raise\u001b[39;00m\n\u001b[0;32m   <a href='file:///c%3A/Users/j13ma/anaconda3/envs/complex_systems/lib/site-packages/pandas/core/indexes/base.py?line=3625'>3626</a>\u001b[0m     \u001b[39m#  InvalidIndexError. Otherwise we fall through and re-raise\u001b[39;00m\n\u001b[0;32m   <a href='file:///c%3A/Users/j13ma/anaconda3/envs/complex_systems/lib/site-packages/pandas/core/indexes/base.py?line=3626'>3627</a>\u001b[0m     \u001b[39m#  the TypeError.\u001b[39;00m\n\u001b[0;32m   <a href='file:///c%3A/Users/j13ma/anaconda3/envs/complex_systems/lib/site-packages/pandas/core/indexes/base.py?line=3627'>3628</a>\u001b[0m     \u001b[39mself\u001b[39m\u001b[39m.\u001b[39m_check_indexing_error(key)\n",
      "\u001b[1;31mKeyError\u001b[0m: 'Step'"
     ]
    }
   ],
   "source": [
    "steps = [s[0] for s in sticks_df.index.values]\n",
    "ids = [s[1] for s in sticks_df.index.values]\n",
    "\n",
    "print(sticks_df)\n",
    "\n",
    "b = [a for a in sticks_df[\"Step\"]]\n",
    "print(b)"
   ]
  }
 ],
 "metadata": {
  "interpreter": {
   "hash": "5322818cae43cf6468214953b049884cb6ca7e8071f01fca2a6d6ce521d192bd"
  },
  "kernelspec": {
   "display_name": "Python 3.10.4 64-bit",
   "language": "python",
   "name": "python3"
  },
  "language_info": {
   "codemirror_mode": {
    "name": "ipython",
    "version": 3
   },
   "file_extension": ".py",
   "mimetype": "text/x-python",
   "name": "python",
   "nbconvert_exporter": "python",
   "pygments_lexer": "ipython3",
   "version": "3.8.12"
  },
  "orig_nbformat": 4
 },
 "nbformat": 4,
 "nbformat_minor": 2
}
