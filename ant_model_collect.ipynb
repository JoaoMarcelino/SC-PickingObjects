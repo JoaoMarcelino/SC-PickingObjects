{
 "cells": [
  {
   "cell_type": "code",
   "execution_count": 2,
   "metadata": {},
   "outputs": [],
   "source": [
    "#Imports and Setup\n",
    "\n",
    "#Palma ratio\n",
    "#Theil index\n",
    "#Hoover index\n",
    "#Lorenz curve\n",
    "\n",
    "from ant_model import AntModel\n",
    "import matplotlib.pyplot as plt\n",
    "from matplotlib.animation import FuncAnimation\n",
    "import seaborn as sns\n",
    "\n",
    "n_ants = 10\n",
    "n_sticks = 500\n",
    "neigh = \"VN\"\n",
    "stick_min = 2\n",
    "stick_max = None\n",
    "width = 10\n",
    "height = 10\n",
    "num_gens = 500\n",
    "model = AntModel(n_ants,n_sticks,neigh,stick_min, stick_max, width,height)"
   ]
  },
  {
   "cell_type": "code",
   "execution_count": 3,
   "metadata": {},
   "outputs": [
    {
     "ename": "TypeError",
     "evalue": "'<=' not supported between instances of 'int' and 'NoneType'",
     "output_type": "error",
     "traceback": [
      "\u001b[1;31m---------------------------------------------------------------------------\u001b[0m",
      "\u001b[1;31mTypeError\u001b[0m                                 Traceback (most recent call last)",
      "\u001b[1;32mc:\\Users\\danie\\OneDrive\\Ambiente de Trabalho\\MEI\\SC\\Projeto\\ant_model_collect.ipynb Cell 2'\u001b[0m in \u001b[0;36m<cell line: 1>\u001b[1;34m()\u001b[0m\n\u001b[0;32m      <a href='vscode-notebook-cell:/c%3A/Users/danie/OneDrive/Ambiente%20de%20Trabalho/MEI/SC/Projeto/ant_model_collect.ipynb#ch0000001?line=0'>1</a>\u001b[0m \u001b[39mfor\u001b[39;00m i \u001b[39min\u001b[39;00m \u001b[39mrange\u001b[39m(num_gens):\n\u001b[1;32m----> <a href='vscode-notebook-cell:/c%3A/Users/danie/OneDrive/Ambiente%20de%20Trabalho/MEI/SC/Projeto/ant_model_collect.ipynb#ch0000001?line=1'>2</a>\u001b[0m     model\u001b[39m.\u001b[39;49mstep()\n\u001b[0;32m      <a href='vscode-notebook-cell:/c%3A/Users/danie/OneDrive/Ambiente%20de%20Trabalho/MEI/SC/Projeto/ant_model_collect.ipynb#ch0000001?line=3'>4</a>\u001b[0m average_df \u001b[39m=\u001b[39m model\u001b[39m.\u001b[39mdatacollector\u001b[39m.\u001b[39mget_model_vars_dataframe()\n\u001b[0;32m      <a href='vscode-notebook-cell:/c%3A/Users/danie/OneDrive/Ambiente%20de%20Trabalho/MEI/SC/Projeto/ant_model_collect.ipynb#ch0000001?line=6'>7</a>\u001b[0m sticks_df \u001b[39m=\u001b[39m model\u001b[39m.\u001b[39mdatacollector\u001b[39m.\u001b[39mget_agent_vars_dataframe()\n",
      "File \u001b[1;32mc:\\Users\\danie\\OneDrive\\Ambiente de Trabalho\\MEI\\SC\\Projeto\\ant_model.py:188\u001b[0m, in \u001b[0;36mAntModel.step\u001b[1;34m(self)\u001b[0m\n\u001b[0;32m    <a href='file:///c%3A/Users/danie/OneDrive/Ambiente%20de%20Trabalho/MEI/SC/Projeto/ant_model.py?line=185'>186</a>\u001b[0m \u001b[39mdef\u001b[39;00m \u001b[39mstep\u001b[39m(\u001b[39mself\u001b[39m):\n\u001b[0;32m    <a href='file:///c%3A/Users/danie/OneDrive/Ambiente%20de%20Trabalho/MEI/SC/Projeto/ant_model.py?line=186'>187</a>\u001b[0m     \u001b[39m\"\"\"Advance the model by one step.\"\"\"\u001b[39;00m\n\u001b[1;32m--> <a href='file:///c%3A/Users/danie/OneDrive/Ambiente%20de%20Trabalho/MEI/SC/Projeto/ant_model.py?line=187'>188</a>\u001b[0m     \u001b[39mself\u001b[39;49m\u001b[39m.\u001b[39;49mschedule_ants\u001b[39m.\u001b[39;49mstep()\n\u001b[0;32m    <a href='file:///c%3A/Users/danie/OneDrive/Ambiente%20de%20Trabalho/MEI/SC/Projeto/ant_model.py?line=189'>190</a>\u001b[0m     \u001b[39m#CHANGES \u001b[39;00m\n\u001b[0;32m    <a href='file:///c%3A/Users/danie/OneDrive/Ambiente%20de%20Trabalho/MEI/SC/Projeto/ant_model.py?line=190'>191</a>\u001b[0m     \u001b[39mself\u001b[39m\u001b[39m.\u001b[39mschedule\u001b[39m.\u001b[39mstep()\n",
      "File \u001b[1;32m~\\AppData\\Local\\Programs\\Python\\Python310\\lib\\site-packages\\mesa\\time.py:125\u001b[0m, in \u001b[0;36mRandomActivation.step\u001b[1;34m(self)\u001b[0m\n\u001b[0;32m    <a href='file:///c%3A/Users/danie/AppData/Local/Programs/Python/Python310/lib/site-packages/mesa/time.py?line=119'>120</a>\u001b[0m \u001b[39m\"\"\"Executes the step of all agents, one at a time, in\u001b[39;00m\n\u001b[0;32m    <a href='file:///c%3A/Users/danie/AppData/Local/Programs/Python/Python310/lib/site-packages/mesa/time.py?line=120'>121</a>\u001b[0m \u001b[39mrandom order.\u001b[39;00m\n\u001b[0;32m    <a href='file:///c%3A/Users/danie/AppData/Local/Programs/Python/Python310/lib/site-packages/mesa/time.py?line=121'>122</a>\u001b[0m \n\u001b[0;32m    <a href='file:///c%3A/Users/danie/AppData/Local/Programs/Python/Python310/lib/site-packages/mesa/time.py?line=122'>123</a>\u001b[0m \u001b[39m\"\"\"\u001b[39;00m\n\u001b[0;32m    <a href='file:///c%3A/Users/danie/AppData/Local/Programs/Python/Python310/lib/site-packages/mesa/time.py?line=123'>124</a>\u001b[0m \u001b[39mfor\u001b[39;00m agent \u001b[39min\u001b[39;00m \u001b[39mself\u001b[39m\u001b[39m.\u001b[39magent_buffer(shuffled\u001b[39m=\u001b[39m\u001b[39mTrue\u001b[39;00m):\n\u001b[1;32m--> <a href='file:///c%3A/Users/danie/AppData/Local/Programs/Python/Python310/lib/site-packages/mesa/time.py?line=124'>125</a>\u001b[0m     agent\u001b[39m.\u001b[39;49mstep()\n\u001b[0;32m    <a href='file:///c%3A/Users/danie/AppData/Local/Programs/Python/Python310/lib/site-packages/mesa/time.py?line=125'>126</a>\u001b[0m \u001b[39mself\u001b[39m\u001b[39m.\u001b[39msteps \u001b[39m+\u001b[39m\u001b[39m=\u001b[39m \u001b[39m1\u001b[39m\n\u001b[0;32m    <a href='file:///c%3A/Users/danie/AppData/Local/Programs/Python/Python310/lib/site-packages/mesa/time.py?line=126'>127</a>\u001b[0m \u001b[39mself\u001b[39m\u001b[39m.\u001b[39mtime \u001b[39m+\u001b[39m\u001b[39m=\u001b[39m \u001b[39m1\u001b[39m\n",
      "File \u001b[1;32mc:\\Users\\danie\\OneDrive\\Ambiente de Trabalho\\MEI\\SC\\Projeto\\ant_model.py:55\u001b[0m, in \u001b[0;36mAntAgent.step\u001b[1;34m(self)\u001b[0m\n\u001b[0;32m     <a href='file:///c%3A/Users/danie/OneDrive/Ambiente%20de%20Trabalho/MEI/SC/Projeto/ant_model.py?line=51'>52</a>\u001b[0m \u001b[39mdef\u001b[39;00m \u001b[39mstep\u001b[39m(\u001b[39mself\u001b[39m):\n\u001b[0;32m     <a href='file:///c%3A/Users/danie/OneDrive/Ambiente%20de%20Trabalho/MEI/SC/Projeto/ant_model.py?line=52'>53</a>\u001b[0m \n\u001b[0;32m     <a href='file:///c%3A/Users/danie/OneDrive/Ambiente%20de%20Trabalho/MEI/SC/Projeto/ant_model.py?line=53'>54</a>\u001b[0m     \u001b[39m#Place Stick\u001b[39;00m\n\u001b[1;32m---> <a href='file:///c%3A/Users/danie/OneDrive/Ambiente%20de%20Trabalho/MEI/SC/Projeto/ant_model.py?line=54'>55</a>\u001b[0m     \u001b[39mself\u001b[39;49m\u001b[39m.\u001b[39;49mplace()\n\u001b[0;32m     <a href='file:///c%3A/Users/danie/OneDrive/Ambiente%20de%20Trabalho/MEI/SC/Projeto/ant_model.py?line=56'>57</a>\u001b[0m     \u001b[39m#Move Ant\u001b[39;00m\n\u001b[0;32m     <a href='file:///c%3A/Users/danie/OneDrive/Ambiente%20de%20Trabalho/MEI/SC/Projeto/ant_model.py?line=57'>58</a>\u001b[0m     \u001b[39mself\u001b[39m\u001b[39m.\u001b[39mmove()\n",
      "File \u001b[1;32mc:\\Users\\danie\\OneDrive\\Ambiente de Trabalho\\MEI\\SC\\Projeto\\ant_model.py:74\u001b[0m, in \u001b[0;36mAntAgent.place\u001b[1;34m(self)\u001b[0m\n\u001b[0;32m     <a href='file:///c%3A/Users/danie/OneDrive/Ambiente%20de%20Trabalho/MEI/SC/Projeto/ant_model.py?line=70'>71</a>\u001b[0m sticks \u001b[39m=\u001b[39m [agent \u001b[39mfor\u001b[39;00m agent \u001b[39min\u001b[39;00m cellmates \u001b[39mif\u001b[39;00m agent\u001b[39m.\u001b[39mname \u001b[39m==\u001b[39m \u001b[39m\"\u001b[39m\u001b[39mStick\u001b[39m\u001b[39m\"\u001b[39m]\n\u001b[0;32m     <a href='file:///c%3A/Users/danie/OneDrive/Ambiente%20de%20Trabalho/MEI/SC/Projeto/ant_model.py?line=71'>72</a>\u001b[0m free_sticks \u001b[39m=\u001b[39m [stick \u001b[39mfor\u001b[39;00m stick \u001b[39min\u001b[39;00m sticks \u001b[39mif\u001b[39;00m stick\u001b[39m.\u001b[39mant \u001b[39m==\u001b[39m \u001b[39mNone\u001b[39;00m]\n\u001b[1;32m---> <a href='file:///c%3A/Users/danie/OneDrive/Ambiente%20de%20Trabalho/MEI/SC/Projeto/ant_model.py?line=73'>74</a>\u001b[0m \u001b[39mif\u001b[39;00m \u001b[39mlen\u001b[39m(free_sticks) \u001b[39m>\u001b[39m\u001b[39m=\u001b[39m \u001b[39mself\u001b[39m\u001b[39m.\u001b[39mstick_min \u001b[39mand\u001b[39;00m \u001b[39mlen\u001b[39;49m(free_sticks) \u001b[39m<\u001b[39;49m\u001b[39m=\u001b[39;49m \u001b[39mself\u001b[39;49m\u001b[39m.\u001b[39;49mstick_max:\n\u001b[0;32m     <a href='file:///c%3A/Users/danie/OneDrive/Ambiente%20de%20Trabalho/MEI/SC/Projeto/ant_model.py?line=74'>75</a>\u001b[0m     \u001b[39m#print(f\"Found Stick Pile. Dropping {self.stick.unique_id} in {self.pos}\")\u001b[39;00m\n\u001b[0;32m     <a href='file:///c%3A/Users/danie/OneDrive/Ambiente%20de%20Trabalho/MEI/SC/Projeto/ant_model.py?line=75'>76</a>\u001b[0m     \u001b[39mself\u001b[39m\u001b[39m.\u001b[39mstick\u001b[39m.\u001b[39mant \u001b[39m=\u001b[39m \u001b[39mNone\u001b[39;00m\n\u001b[0;32m     <a href='file:///c%3A/Users/danie/OneDrive/Ambiente%20de%20Trabalho/MEI/SC/Projeto/ant_model.py?line=76'>77</a>\u001b[0m     \u001b[39mself\u001b[39m\u001b[39m.\u001b[39mstick \u001b[39m=\u001b[39m \u001b[39mNone\u001b[39;00m\n",
      "\u001b[1;31mTypeError\u001b[0m: '<=' not supported between instances of 'int' and 'NoneType'"
     ]
    }
   ],
   "source": [
    "for i in range(num_gens):\n",
    "    model.step()\n",
    "\n",
    "average_df = model.datacollector.get_model_vars_dataframe()\n",
    "\n",
    "\n",
    "sticks_df = model.datacollector.get_agent_vars_dataframe()\n",
    "\n",
    "#average_df.to_csv(\"test1.csv\")\n",
    "#sticks_df.to_csv(\"test2.csv\")\n",
    "\n",
    "average_df.plot()\n",
    "\n",
    "\n",
    "steps = [s[0] for s in sticks_df.index.values]\n",
    "ids = [s[1] for s in sticks_df.index.values]\n",
    "\n",
    "print(steps[0], ids[0])\n",
    "fig = plt.figure(figsize=(8,6))\n",
    "axes = fig.add_subplot(1,1,1)\n",
    "axes.set_ylim(0, max(steps))\n",
    "\n",
    "y1, y2 = [], []\n",
    "def animation_stuff(): #todo\n",
    "    def animate(i):\n",
    "        y1 =steps[i]\n",
    "        y2 = ids[i]\n",
    "    ani = FuncAnimation(fig, animate, interval=100)\n",
    "    pass\n",
    "\n",
    "plt.title(\"Stick piles evolution\", color=(\"black\"))\n",
    "plt.scatter(steps,sticks_df)\n",
    "plt.show()"
   ]
  },
  {
   "cell_type": "code",
   "execution_count": 1,
   "metadata": {},
   "outputs": [
    {
     "ename": "NameError",
     "evalue": "name 'sticks_df' is not defined",
     "output_type": "error",
     "traceback": [
      "\u001b[1;31m---------------------------------------------------------------------------\u001b[0m",
      "\u001b[1;31mNameError\u001b[0m                                 Traceback (most recent call last)",
      "\u001b[1;32mc:\\Users\\danie\\OneDrive\\Ambiente de Trabalho\\MEI\\SC\\Projeto\\ant_model_collect.ipynb Cell 3'\u001b[0m in \u001b[0;36m<cell line: 1>\u001b[1;34m()\u001b[0m\n\u001b[1;32m----> <a href='vscode-notebook-cell:/c%3A/Users/danie/OneDrive/Ambiente%20de%20Trabalho/MEI/SC/Projeto/ant_model_collect.ipynb#ch0000002?line=0'>1</a>\u001b[0m steps \u001b[39m=\u001b[39m [s[\u001b[39m0\u001b[39m] \u001b[39mfor\u001b[39;00m s \u001b[39min\u001b[39;00m sticks_df\u001b[39m.\u001b[39mindex\u001b[39m.\u001b[39mvalues]\n\u001b[0;32m      <a href='vscode-notebook-cell:/c%3A/Users/danie/OneDrive/Ambiente%20de%20Trabalho/MEI/SC/Projeto/ant_model_collect.ipynb#ch0000002?line=1'>2</a>\u001b[0m ids \u001b[39m=\u001b[39m [s[\u001b[39m1\u001b[39m] \u001b[39mfor\u001b[39;00m s \u001b[39min\u001b[39;00m sticks_df\u001b[39m.\u001b[39mindex\u001b[39m.\u001b[39mvalues]\n\u001b[0;32m      <a href='vscode-notebook-cell:/c%3A/Users/danie/OneDrive/Ambiente%20de%20Trabalho/MEI/SC/Projeto/ant_model_collect.ipynb#ch0000002?line=3'>4</a>\u001b[0m \u001b[39mprint\u001b[39m(sticks_df)\n",
      "\u001b[1;31mNameError\u001b[0m: name 'sticks_df' is not defined"
     ]
    }
   ],
   "source": [
    "steps = [s[0] for s in sticks_df.index.values]\n",
    "ids = [s[1] for s in sticks_df.index.values]\n",
    "\n",
    "print(sticks_df)\n",
    "\n",
    "b = [a for a in sticks_df[\"Steps\"]]\n",
    "print(b)"
   ]
  }
 ],
 "metadata": {
  "interpreter": {
   "hash": "5322818cae43cf6468214953b049884cb6ca7e8071f01fca2a6d6ce521d192bd"
  },
  "kernelspec": {
   "display_name": "Python 3.10.4 64-bit",
   "language": "python",
   "name": "python3"
  },
  "language_info": {
   "codemirror_mode": {
    "name": "ipython",
    "version": 3
   },
   "file_extension": ".py",
   "mimetype": "text/x-python",
   "name": "python",
   "nbconvert_exporter": "python",
   "pygments_lexer": "ipython3",
   "version": "3.10.4"
  },
  "orig_nbformat": 4
 },
 "nbformat": 4,
 "nbformat_minor": 2
}
